{
 "cells": [
  {
   "cell_type": "code",
   "execution_count": 1,
   "id": "1c7d1b55",
   "metadata": {},
   "outputs": [
    {
     "ename": "SystemExit",
     "evalue": "0",
     "output_type": "error",
     "traceback": [
      "An exception has occurred, use %tb to see the full traceback.\n",
      "\u001b[1;31mSystemExit\u001b[0m\u001b[1;31m:\u001b[0m 0\n"
     ]
    },
    {
     "name": "stderr",
     "output_type": "stream",
     "text": [
      "C:\\Users\\stass\\mambaforge\\lib\\site-packages\\IPython\\core\\interactiveshell.py:3449: UserWarning: To exit: use 'exit', 'quit', or Ctrl-D.\n",
      "  warn(\"To exit: use 'exit', 'quit', or Ctrl-D.\", stacklevel=1)\n"
     ]
    }
   ],
   "source": [
    "from PyQt5.QtWidgets import *\n",
    "\n",
    "import sys\n",
    "\n",
    "\n",
    "class Window(QMainWindow):\n",
    "\n",
    "    def __init__(self):\n",
    "        super().__init__()\n",
    "\n",
    "\n",
    "        self.setWindowTitle(\"Lab1\")\n",
    "        self.setGeometry(200, 200, 480, 640)\n",
    "\n",
    "        self.UiComponents()\n",
    "        self.show()\n",
    "\n",
    "    lol = 0\n",
    "    \n",
    "    def changeName(self):\n",
    "        name = \"Hello world\"\n",
    "        self.label1.setText(name)\n",
    "\n",
    "    def changeName2(self):\n",
    "        name = \"Bye World\"\n",
    "        self.label1.setText(name)\n",
    "        \n",
    "    def reset(self):\n",
    "        name = \"What will you say to the world?\"\n",
    "        self.label1.setText(name)\n",
    "        \n",
    "    def UiComponents(self):\n",
    "        self.label1 = QLabel('What will you say to the world?',self)\n",
    "        self.label1.setGeometry(200, 100, 200, 80)\n",
    "\n",
    "        self.push = QPushButton(\"Hello world \", self)\n",
    "        self.push2 = QPushButton(\"Bye World\", self)\n",
    "        self.push3 = QPushButton(\"reset\", self)\n",
    "\n",
    "        self.push.setGeometry(200, 200, 200, 80)\n",
    "        self.push2.setGeometry(200, 300, 200, 80)\n",
    "        self.push3.setGeometry(200, 400, 200, 80)\n",
    "\n",
    "        self.push.clicked.connect(self.changeName)\n",
    "        self.push2.clicked.connect(self.changeName2)\n",
    "        self.push3.clicked.connect(self.reset)\n",
    "\n",
    "App = QApplication(sys.argv)\n",
    "window = Window()\n",
    "sys.exit(App.exec())"
   ]
  },
  {
   "cell_type": "code",
   "execution_count": null,
   "id": "84c8a95d",
   "metadata": {},
   "outputs": [],
   "source": []
  },
  {
   "cell_type": "code",
   "execution_count": null,
   "id": "2e73cd72",
   "metadata": {},
   "outputs": [],
   "source": []
  }
 ],
 "metadata": {
  "kernelspec": {
   "display_name": "Python 3 (ipykernel)",
   "language": "python",
   "name": "python3"
  },
  "language_info": {
   "codemirror_mode": {
    "name": "ipython",
    "version": 3
   },
   "file_extension": ".py",
   "mimetype": "text/x-python",
   "name": "python",
   "nbconvert_exporter": "python",
   "pygments_lexer": "ipython3",
   "version": "3.9.6"
  }
 },
 "nbformat": 4,
 "nbformat_minor": 5
}
